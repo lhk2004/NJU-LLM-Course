{
 "cells": [
  {
   "cell_type": "markdown",
   "metadata": {},
   "source": [
    "### 1. Environment Preparation"
   ]
  },
  {
   "cell_type": "code",
   "execution_count": 1,
   "metadata": {},
   "outputs": [
    {
     "name": "stderr",
     "output_type": "stream",
     "text": [
      "/home/user/students/lh/anaconda3/envs/linhk/lib/python3.10/site-packages/tqdm/auto.py:21: TqdmWarning: IProgress not found. Please update jupyter and ipywidgets. See https://ipywidgets.readthedocs.io/en/stable/user_install.html\n",
      "  from .autonotebook import tqdm as notebook_tqdm\n"
     ]
    }
   ],
   "source": [
    "from llama_index.core import VectorStoreIndex, Settings\n",
    "from llama_index.embeddings.huggingface import HuggingFaceEmbedding\n",
    "import json\n",
    "from llama_index.core.schema import TextNode\n",
    "from llama_index.core.retrievers import VectorIndexRetriever\n",
    "from llama_index.core.query_engine import RetrieverQueryEngine\n",
    "from datasets import load_dataset\n",
    "import os\n",
    "\n",
    "from src.modeling import (\n",
    "    PaddingSide,\n",
    "    TruncateSide,\n",
    "    PromptType,\n",
    "    PromptTemplate,\n",
    ")\n",
    "from src.modeling.models import (\n",
    "    LlamaConfig,\n",
    "    LlamaTokenizer,\n",
    "    LlamaModel,\n",
    ")\n",
    "from src.inference import (\n",
    "    DecodeStrategy,\n",
    "    InferenceConfig,\n",
    "    InferenceAgent,\n",
    ")\n",
    "\n",
    "device = \"cuda:3\" # switch to your preferred device"
   ]
  },
  {
   "cell_type": "markdown",
   "metadata": {},
   "source": [
    "### 2. Loading Dataset and Models"
   ]
  },
  {
   "cell_type": "code",
   "execution_count": 2,
   "metadata": {},
   "outputs": [
    {
     "data": {
      "text/plain": [
       "Dataset({\n",
       "    features: ['passage', 'id'],\n",
       "    num_rows: 3200\n",
       "})"
      ]
     },
     "execution_count": 2,
     "metadata": {},
     "output_type": "execute_result"
    }
   ],
   "source": [
    "# loading dataset\n",
    "data = load_dataset(\"./data/RAG/mini-wikipedia\")['train']\n",
    "data"
   ]
  },
  {
   "cell_type": "code",
   "execution_count": 3,
   "metadata": {},
   "outputs": [
    {
     "name": "stdout",
     "output_type": "stream",
     "text": [
      "Embedding model loaded.\n",
      "Base model loaded.\n",
      "Tokenizer loaded.\n",
      "InferenceAgent loaded.\n"
     ]
    }
   ],
   "source": [
    "# loading embedding model\n",
    "Settings.embed_model = HuggingFaceEmbedding(model_name=\"./model/bge-large-en-v1.5\", device=device)\n",
    "print(\"Embedding model loaded.\")\n",
    "\n",
    "# loading InferenceAgent\n",
    "# base model\n",
    "model_dir = \"./model/llama_3.2_1b_instruct/\"\n",
    "config_file = os.path.join(model_dir, \"config.json\")\n",
    "params_files = os.path.join(model_dir, \"model.safetensors\")\n",
    "with open(config_file, \"r\") as f:\n",
    "    config = json.load(f)\n",
    "llama_config: LlamaConfig = LlamaModel.load_config(\n",
    "    config_file, \n",
    "    param_device=device,\n",
    ")\n",
    "llama_model = LlamaModel(llama_config)\n",
    "llama_model.load_parameters(params_files)\n",
    "print(\"Base model loaded.\")\n",
    "# tokenizer\n",
    "tokenizer_file = os.path.join(model_dir, \"tokenizer.json\")\n",
    "tokenizer_config_file = os.path.join(model_dir, \"tokenizer_config.json\")\n",
    "llama_tokenizer = LlamaTokenizer(\n",
    "    vocab_file=tokenizer_file,\n",
    "    config_file=tokenizer_config_file,\n",
    ")\n",
    "print(\"Tokenizer loaded.\")\n",
    "# generation config\n",
    "generation_config_file = os.path.join(model_dir, \"generation_config.json\")\n",
    "max_new_tokens = 100\n",
    "sampling_seed = 42\n",
    "inf_config = InferenceConfig(\n",
    "    decode_strategy=DecodeStrategy.GREEDY,\n",
    "    max_new_tokens=max_new_tokens,\n",
    "    temperature=1.0,\n",
    "    top_p=0.9,\n",
    "    top_k=50,\n",
    "    sampling_seed=sampling_seed,\n",
    "    padding_side=PaddingSide.LEFT,\n",
    "    pad_to_multiple_of=1,\n",
    "    truncate_length=None,\n",
    "    truncate_side=TruncateSide.RIGHT,\n",
    "    device=device,\n",
    ")\n",
    "# building agent\n",
    "inf_agent = InferenceAgent(\n",
    "    config=inf_config,\n",
    "    model=llama_model,\n",
    "    tokenizer=llama_tokenizer,\n",
    ")\n",
    "print(\"InferenceAgent loaded.\")"
   ]
  },
  {
   "cell_type": "markdown",
   "metadata": {},
   "source": [
    "### 3. Retrieval Corpus Preparation"
   ]
  },
  {
   "cell_type": "code",
   "execution_count": 4,
   "metadata": {},
   "outputs": [
    {
     "name": "stdout",
     "output_type": "stream",
     "text": [
      "LLM is explicitly disabled. Using MockLLM.\n"
     ]
    }
   ],
   "source": [
    "nodes = []\n",
    "for value in data:\n",
    "    nodes.append(TextNode(text=value['passage'], id_=str(value['id'])))\n",
    "index = VectorStoreIndex(nodes)\n",
    "# configure retriever\n",
    "retriever = VectorIndexRetriever(\n",
    "    index=index,\n",
    "    similarity_top_k=1, # select the most relevant document\n",
    ")\n",
    "Settings.llm = None\n",
    "# assemble query engine\n",
    "query_engine = RetrieverQueryEngine(\n",
    "    retriever=retriever,\n",
    ")"
   ]
  },
  {
   "cell_type": "markdown",
   "metadata": {},
   "source": [
    "### 4. Retrieval"
   ]
  },
  {
   "cell_type": "code",
   "execution_count": 5,
   "metadata": {},
   "outputs": [
    {
     "name": "stdout",
     "output_type": "stream",
     "text": [
      "Montevideo was founded by the Spanish in the early 18th century as a military stronghold. Uruguay won its independence in 1828 following a three-way struggle between Spain, Argentina and Brazil. It is a constitutional democracy, where the president fulfills the roles of both head of state and head of government\n"
     ]
    }
   ],
   "source": [
    "query = \"How was Montevideo founded?\"\n",
    "retrieved_chunk = query_engine.retrieve(query)[0].text\n",
    "print(retrieved_chunk)"
   ]
  },
  {
   "cell_type": "markdown",
   "metadata": {},
   "source": [
    "### 5. Generation"
   ]
  },
  {
   "cell_type": "code",
   "execution_count": 6,
   "metadata": {},
   "outputs": [
    {
     "name": "stdout",
     "output_type": "stream",
     "text": [
      "\n",
      "========================= The 0-th sample in the batch =========================\n",
      "\n",
      "[PromptType.SYSTEM]: You're a helpful assitant on Question Anwering. You will be given a question and a corresponding paragraph that might be useful in answering the question. You should first decide whether the information is indeed helpful, then give your final answer to the question based on the information if it is useful (or otherwise, just answer based on your own knowledge).\n",
      "\n",
      "\n",
      "[PromptType.CONTEXT]: Information that might be useful: Montevideo was founded by the Spanish in the early 18th century as a military stronghold. Uruguay won its independence in 1828 following a three-way struggle between Spain, Argentina and Brazil. It is a constitutional democracy, where the president fulfills the roles of both head of state and head of government.\n",
      "\n",
      "\n",
      "[PromptType.QUERY]: How was Montevideo founded?\n",
      "\n",
      "[PromptType.PROMPT]: You're a helpful assitant on Question Anwering. You will be given a question and a corresponding paragraph that might be useful in answering the question. You should first decide whether the information is indeed helpful, then give your final answer to the question based on the information if it is useful (or otherwise, just answer based on your own knowledge).\n",
      "Information that might be useful: Montevideo was founded by the Spanish in the early 18th century as a military stronghold. Uruguay won its independence in 1828 following a three-way struggle between Spain, Argentina and Brazil. It is a constitutional democracy, where the president fulfills the roles of both head of state and head of government.\n",
      "How was Montevideo founded?\n",
      "\n",
      "[PromptType.RESPONSE]:  \n",
      "Montevideo was founded by the Spanish in the early 18th century as a military stronghold. The city was strategically located on the Río de la Plata, which provided access to the Atlantic Ocean and facilitated trade and commerce. The Spanish established the city as a fortified settlement, with the goal of controlling the region and protecting their interests. Over time, the city grew and developed into a major commercial center, with a diverse economy based on agriculture, livestock, and trade. The city's\n",
      "\n",
      "[PromptType.ALL]: You're a helpful assitant on Question Anwering. You will be given a question and a corresponding paragraph that might be useful in answering the question. You should first decide whether the information is indeed helpful, then give your final answer to the question based on the information if it is useful (or otherwise, just answer based on your own knowledge).\n",
      "Information that might be useful: Montevideo was founded by the Spanish in the early 18th century as a military stronghold. Uruguay won its independence in 1828 following a three-way struggle between Spain, Argentina and Brazil. It is a constitutional democracy, where the president fulfills the roles of both head of state and head of government.\n",
      "How was Montevideo founded? \n",
      "Montevideo was founded by the Spanish in the early 18th century as a military stronghold. The city was strategically located on the Río de la Plata, which provided access to the Atlantic Ocean and facilitated trade and commerce. The Spanish established the city as a fortified settlement, with the goal of controlling the region and protecting their interests. Over time, the city grew and developed into a major commercial center, with a diverse economy based on agriculture, livestock, and trade. The city's\n"
     ]
    }
   ],
   "source": [
    "system_prompt_template = PromptTemplate(\n",
    "    template_str=\"You're a helpful assitant on {subject}. You will be given a question and a corresponding paragraph that might be useful in answering the question. You should first decide whether the information is indeed helpful, then give your final answer to the question based on the information if it is useful (or otherwise, just answer based on your own knowledge).\\n\",\n",
    ")\n",
    "context_prompt_template = PromptTemplate(\n",
    "    template_str=\"Information that might be useful: {information}.\\n\",\n",
    ")\n",
    "\n",
    "subject = \"Question Anwering\"\n",
    "\n",
    "inf_agent.set_prompt(\n",
    "    prompt_template=system_prompt_template,\n",
    "    prompt_type=PromptType.SYSTEM,\n",
    ")\n",
    "inf_agent.set_prompt(\n",
    "    prompt_template=context_prompt_template,\n",
    "    prompt_type=PromptType.CONTEXT,\n",
    ")\n",
    "\n",
    "prompt_dicts = inf_agent(query, subject=subject, information=retrieved_chunk)\n",
    "for i, prompt_dict in enumerate(prompt_dicts):\n",
    "    print(f\"\\n{'='*25} The {i}-th sample in the batch {'='*25}\")\n",
    "    for prompt_type, promp in prompt_dict.items():\n",
    "        print(f\"\\n[{prompt_type}]: {promp}\")"
   ]
  },
  {
   "cell_type": "code",
   "execution_count": null,
   "metadata": {},
   "outputs": [],
   "source": []
  }
 ],
 "metadata": {
  "language_info": {
   "name": "python"
  }
 },
 "nbformat": 4,
 "nbformat_minor": 2
}
